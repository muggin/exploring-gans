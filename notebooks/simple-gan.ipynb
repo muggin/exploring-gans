{
 "cells": [
  {
   "cell_type": "code",
   "execution_count": 11,
   "metadata": {},
   "outputs": [],
   "source": [
    "from __future__ import division\n",
    "\n",
    "import os\n",
    "import operator\n",
    "import numpy as np\n",
    "import matplotlib.pyplot as plt\n",
    "import cPickle as pickle\n",
    "\n",
    "from keras.models import Sequential\n",
    "from keras.layers.core import Dense, Dropout\n",
    "from keras.preprocessing.image import ImageDataGenerator\n",
    "from keras.optimizers import SGD\n",
    "\n",
    "%matplotlib inline"
   ]
  },
  {
   "cell_type": "code",
   "execution_count": 23,
   "metadata": {},
   "outputs": [
    {
     "name": "stdout",
     "output_type": "stream",
     "text": [
      "Loaded data (70000, 28, 28, 1)\n"
     ]
    }
   ],
   "source": [
    "data_files = {'cifar': '../data/cifar.npy',\n",
    "              'mnist': '../data/mnist.npy',\n",
    "              'lfw': '../data/lfw.npy'}\n",
    "\n",
    "data = np.load(data_files['mnist'])\n",
    "data = data.astype('float32')\n",
    "data_shape = data.shape[1:3]\n",
    "data_dim = reduce(operator.mul, data.shape[1:])\n",
    "\n",
    "print 'Loaded data {}'.format(data.shape)"
   ]
  },
  {
   "cell_type": "code",
   "execution_count": 32,
   "metadata": {
    "collapsed": true
   },
   "outputs": [],
   "source": [
    "# setup optimizer\n",
    "opt = SGD(lr=0.01, momentum=0.1)\n",
    "\n",
    "# setup generator network\n",
    "generator = Sequential()\n",
    "generator.add(Dense(2048*2, input_dim=2048, activation='relu'))\n",
    "generator.add(Dense(1024*2, activation='relu'))\n",
    "generator.add(Dense(data_dim, activation='linear'))\n",
    "generator.compile(loss='binary_crossentropy', optimizer=opt)\n",
    "\n",
    "# setup discriminator network\n",
    "discriminator = Sequential()\n",
    "discriminator.add(Dense(2048, input_dim=data_dim, activation='relu'))\n",
    "discriminator.add(Dense(1024, activation='relu'))\n",
    "discriminator.add(Dense(1, activation='sigmoid'))\n",
    "discriminator.compile(loss='binary_crossentropy', optimizer=opt)\n",
    "\n",
    "# setup combined network\n",
    "gen_dis = Sequential()\n",
    "gen_dis.add(generator)\n",
    "discriminator.trainable = False\n",
    "gen_dis.add(discriminator)\n",
    "gen_dis.compile(loss='binary_crossentropy', optimizer=opt)"
   ]
  },
  {
   "cell_type": "code",
   "execution_count": null,
   "metadata": {},
   "outputs": [],
   "source": [
    "batch_size = 512\n",
    "\n",
    "gen_labels = np.ones(2*batch_size)\n",
    "gen_labels[:batch_size] = 0\n",
    "gen_disc_labels = np.ones(batch_size)\n",
    "\n",
    "for i in range(1000):\n",
    "    zmb = np.random.uniform(-1, 1, size=(batch_size, 2048)).astype('float32')\n",
    "    n = np.random.randint(0, data.shape[0]-data_dim)\n",
    "    xmb = data[n:n+batch_size].reshape(batch_size, -1)\n",
    "    if i % 10 == 0:\n",
    "        r = gen_dis.fit(zmb, gen_disc_labels, epochs=1, verbose=0)\n",
    "        print 'G:', r.history['loss']\n",
    "    else:\n",
    "        r = discriminator.fit(np.vstack([generator.predict(zmb),xmb]), gen_labels, epochs=1,verbose=0)\n",
    "        print 'D:', r.history['loss']\n",
    "    \n",
    "    if i % 100 == 0:\n",
    "        fakes = generator.predict(zmb[:16,:])\n",
    "        plt.imshow(fakes[0].reshape(28, 28), cmap='gray_r')\n",
    "        plt.show()"
   ]
  },
  {
   "cell_type": "code",
   "execution_count": null,
   "metadata": {
    "collapsed": true
   },
   "outputs": [],
   "source": []
  }
 ],
 "metadata": {
  "kernelspec": {
   "display_name": "Python 2",
   "language": "python",
   "name": "python2"
  },
  "language_info": {
   "codemirror_mode": {
    "name": "ipython",
    "version": 2
   },
   "file_extension": ".py",
   "mimetype": "text/x-python",
   "name": "python",
   "nbconvert_exporter": "python",
   "pygments_lexer": "ipython2",
   "version": "2.7.12"
  }
 },
 "nbformat": 4,
 "nbformat_minor": 2
}
